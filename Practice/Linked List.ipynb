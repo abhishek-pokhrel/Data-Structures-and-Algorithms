{
 "cells": [
  {
   "cell_type": "markdown",
   "metadata": {},
   "source": [
    "#### Linked List Practice"
   ]
  },
  {
   "cell_type": "code",
   "execution_count": 23,
   "metadata": {},
   "outputs": [],
   "source": [
    "class Node:\n",
    "    def __init__(self, data):\n",
    "        self.data = data\n",
    "        self.next = None"
   ]
  },
  {
   "cell_type": "code",
   "execution_count": 89,
   "metadata": {},
   "outputs": [],
   "source": [
    "class LinkedList:\n",
    "    def __init__(self):\n",
    "        self.head = None\n",
    "        self.tail = None\n",
    "        self.length = 0\n",
    "    \n",
    "    def append(self, data):\n",
    "        new_node = Node(data)\n",
    "\n",
    "        if self.head is None:\n",
    "            self.head = new_node\n",
    "            self.tail = new_node\n",
    "            self.length += 1\n",
    "            return True\n",
    "        \n",
    "        temp = self.tail\n",
    "        temp.next = new_node\n",
    "        self.tail = new_node\n",
    "        self.length += 1\n",
    "        return True\n",
    "    \n",
    "    def prepend(self, data):\n",
    "        new_node = Node(data)\n",
    "        if self.head is None:\n",
    "            self.head = new_node\n",
    "            self.tail = new_node \n",
    "            self.length += 1\n",
    "        else:\n",
    "            temp = self.head\n",
    "            new_node.next = temp\n",
    "            self.head = new_node\n",
    "        self.length += 1\n",
    "        return True\n",
    "    \n",
    "    def pop(self):\n",
    "        if self.head is None:\n",
    "            return None\n",
    "        if self.length == 1:\n",
    "            temp = self.head\n",
    "            self.head = None\n",
    "            self.tail = None\n",
    "            self.length -= 1\n",
    "            return temp.data\n",
    "        \n",
    "        temp = self.head\n",
    "        while temp.next.next:\n",
    "            temp = temp.next\n",
    "        curr = temp.next\n",
    "        temp.next = None\n",
    "        self.tail = temp\n",
    "        self.length -= 1\n",
    "        return curr.data\n",
    "    \n",
    "    def pop_first(self):\n",
    "        if self.head is None:\n",
    "            return None\n",
    "        if self.length == 1:\n",
    "            temp = self.head\n",
    "            self.head = None\n",
    "            self.tail = None\n",
    "            self.length -= 1\n",
    "            return temp.data\n",
    "        \n",
    "        temp = self.head\n",
    "        self.head = temp.next\n",
    "        temp.next = None\n",
    "        self.length -= 1\n",
    "        return temp.data\n",
    "    \n",
    "    def insert(self):\n",
    "        pass\n",
    "\n",
    "    def printll(self):\n",
    "        temp = self.head\n",
    "        llstr = ''\n",
    "        while temp:\n",
    "            llstr += f'[{temp.data}] ----> '\n",
    "            temp = temp.next\n",
    "        print(llstr)"
   ]
  },
  {
   "cell_type": "code",
   "execution_count": 85,
   "metadata": {},
   "outputs": [
    {
     "data": {
      "text/plain": [
       "True"
      ]
     },
     "execution_count": 85,
     "metadata": {},
     "output_type": "execute_result"
    }
   ],
   "source": [
    "myll = LinkedList()\n",
    "myll.append(0)\n",
    "myll.append(1)\n",
    "myll.append(2)\n",
    "myll.append(3)\n",
    "myll.append(4)"
   ]
  },
  {
   "cell_type": "code",
   "execution_count": 88,
   "metadata": {},
   "outputs": [
    {
     "name": "stdout",
     "output_type": "stream",
     "text": [
      "[1] ----> [2] ----> [3] ----> [4] ----> \n"
     ]
    }
   ],
   "source": [
    "myll.printll()"
   ]
  },
  {
   "cell_type": "code",
   "execution_count": 87,
   "metadata": {},
   "outputs": [
    {
     "data": {
      "text/plain": [
       "0"
      ]
     },
     "execution_count": 87,
     "metadata": {},
     "output_type": "execute_result"
    }
   ],
   "source": [
    "myll.pop_first()"
   ]
  },
  {
   "cell_type": "code",
   "execution_count": null,
   "metadata": {},
   "outputs": [],
   "source": []
  }
 ],
 "metadata": {
  "kernelspec": {
   "display_name": "Python 3",
   "language": "python",
   "name": "python3"
  },
  "language_info": {
   "codemirror_mode": {
    "name": "ipython",
    "version": 3
   },
   "file_extension": ".py",
   "mimetype": "text/x-python",
   "name": "python",
   "nbconvert_exporter": "python",
   "pygments_lexer": "ipython3",
   "version": "3.12.0"
  }
 },
 "nbformat": 4,
 "nbformat_minor": 2
}
