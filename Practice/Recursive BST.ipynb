{
 "cells": [
  {
   "cell_type": "markdown",
   "metadata": {},
   "source": [
    "#### Recursive Binary Search Tree"
   ]
  },
  {
   "cell_type": "code",
   "execution_count": 1,
   "metadata": {},
   "outputs": [],
   "source": [
    "class Node:\n",
    "    def __init__(self, value):\n",
    "        self.value = value\n",
    "        self.left = None\n",
    "        self.right = None"
   ]
  },
  {
   "cell_type": "code",
   "execution_count": 40,
   "metadata": {},
   "outputs": [],
   "source": [
    "class BST:\n",
    "    def __init__(self, data):\n",
    "        self.data = data\n",
    "        self.left = None\n",
    "        self.right = None\n",
    "\n",
    "    def insert(self, data):\n",
    "        if self is None:\n",
    "            self = BST(data)\n",
    "\n",
    "        if data < self.data:\n",
    "            if self.left is None:\n",
    "                self.left = BST(data)\n",
    "                return True\n",
    "            return self.left.insert(data)\n",
    "        \n",
    "        if data > self.data:\n",
    "            if self.right is None:\n",
    "                self.right = BST(data)\n",
    "                return True\n",
    "            return self.right.insert(data)\n",
    "        \n",
    "    def make_tree(self, arr):\n",
    "        for elm in arr:\n",
    "            self.insert(elm)\n",
    "    \n",
    "    def in_order_traversal(self):\n",
    "        if self.left:\n",
    "            self.left.in_order_traversal()\n",
    "        print(self.data)\n",
    "        if self.right:\n",
    "            self.right.in_order_traversal()"
   ]
  },
  {
   "cell_type": "code",
   "execution_count": 41,
   "metadata": {},
   "outputs": [],
   "source": [
    "root = BST(8)"
   ]
  },
  {
   "cell_type": "code",
   "execution_count": 42,
   "metadata": {},
   "outputs": [],
   "source": [
    "my_arr = [39, 74, 37, 45, 69, 82, 44, 48, 64, 70, 81, 85]"
   ]
  },
  {
   "cell_type": "code",
   "execution_count": 43,
   "metadata": {},
   "outputs": [],
   "source": [
    "root.make_tree(my_arr)"
   ]
  },
  {
   "cell_type": "code",
   "execution_count": 44,
   "metadata": {},
   "outputs": [
    {
     "name": "stdout",
     "output_type": "stream",
     "text": [
      "8\n",
      "37\n",
      "39\n",
      "44\n",
      "45\n",
      "48\n",
      "64\n",
      "69\n",
      "70\n",
      "74\n",
      "81\n",
      "82\n",
      "85\n"
     ]
    }
   ],
   "source": [
    "root.in_order_traversal()"
   ]
  }
 ],
 "metadata": {
  "kernelspec": {
   "display_name": "Python 3",
   "language": "python",
   "name": "python3"
  },
  "language_info": {
   "codemirror_mode": {
    "name": "ipython",
    "version": 3
   },
   "file_extension": ".py",
   "mimetype": "text/x-python",
   "name": "python",
   "nbconvert_exporter": "python",
   "pygments_lexer": "ipython3",
   "version": "3.12.0"
  }
 },
 "nbformat": 4,
 "nbformat_minor": 2
}
